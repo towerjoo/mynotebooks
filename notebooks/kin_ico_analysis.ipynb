{
 "cells": [
  {
   "cell_type": "code",
   "execution_count": 1,
   "metadata": {
    "collapsed": false,
    "deletable": true,
    "editable": true
   },
   "outputs": [
    {
     "name": "stdout",
     "output_type": "stream",
     "text": [
      "Populating the interactive namespace from numpy and matplotlib\n"
     ]
    }
   ],
   "source": [
    "%pylab inline\n",
    "pylab.rcParams['figure.figsize'] = (14, 6)\n",
    "from datetime import datetime\n",
    "from dateutil.relativedelta import relativedelta\n",
    "from copy import deepcopy"
   ]
  },
  {
   "cell_type": "markdown",
   "metadata": {
    "deletable": true,
    "editable": true
   },
   "source": [
    "## Issuance "
   ]
  },
  {
   "cell_type": "code",
   "execution_count": 2,
   "metadata": {
    "collapsed": true,
    "deletable": true,
    "editable": true
   },
   "outputs": [],
   "source": [
    "kin_total = 10000000000000\n",
    "kin_public = int(kin_total * .1)\n",
    "kin_team_option = int(kin_total * .3)\n",
    "kin_foundation_option = int(kin_total * .6)"
   ]
  },
  {
   "cell_type": "markdown",
   "metadata": {
    "deletable": true,
    "editable": true
   },
   "source": [
    "## Supply Schedule"
   ]
  },
  {
   "cell_type": "code",
   "execution_count": 3,
   "metadata": {
    "collapsed": true,
    "deletable": true,
    "editable": true
   },
   "outputs": [],
   "source": [
    "kin_team_unlock = 0.1 * kin_team_option # 10% per quarter\n",
    "kin_foundation_unlock_rate = 0.2 # 20% per year"
   ]
  },
  {
   "cell_type": "markdown",
   "metadata": {
    "deletable": true,
    "editable": true
   },
   "source": [
    "## Inflation Rate"
   ]
  },
  {
   "cell_type": "code",
   "execution_count": 4,
   "metadata": {
    "collapsed": true,
    "deletable": true,
    "editable": true
   },
   "outputs": [],
   "source": [
    "inflation_rate = [0.3,0.185,0.125,0.089,0.065,0.049,0.037,0.029,0.022,0.018,0.082] # inflation rate per year"
   ]
  },
  {
   "cell_type": "markdown",
   "metadata": {
    "deletable": true,
    "editable": true
   },
   "source": [
    "## ICO Kin valuation"
   ]
  },
  {
   "cell_type": "code",
   "execution_count": 5,
   "metadata": {
    "collapsed": true,
    "deletable": true,
    "editable": true
   },
   "outputs": [],
   "source": [
    "# 1B is the valuation in 2015, when Tencent invested with this valuation, and we assume a 20% yearly growth\n",
    "kik_valuation = 10000000000 * 1.2 * 1.2 \n",
    "kin_value = kik_valuation * 0.1 / kin_public  # 0.1 since only 10% of total tokens are sold in public\n",
    "kin_rise = 0.6 # assume Kin rise 60% per year"
   ]
  },
  {
   "cell_type": "markdown",
   "metadata": {
    "deletable": true,
    "editable": true
   },
   "source": [
    "# Analysis"
   ]
  },
  {
   "cell_type": "code",
   "execution_count": 6,
   "metadata": {
    "collapsed": true,
    "deletable": true,
    "editable": true
   },
   "outputs": [],
   "source": [
    "def get_inflation_rate(year):\n",
    "    index = int(year)\n",
    "    frac = year - index\n",
    "    frac = 0.25\n",
    "    if index > len(inflation_rate):\n",
    "        rate = inflation_rate[-1] * frac\n",
    "    else:\n",
    "        rate = inflation_rate[index] * frac\n",
    "    return rate"
   ]
  },
  {
   "cell_type": "code",
   "execution_count": 7,
   "metadata": {
    "collapsed": true,
    "deletable": true,
    "editable": true
   },
   "outputs": [],
   "source": [
    "initial_setting = {\n",
    "    \"kin_foundation_option\": kin_foundation_option,\n",
    "    \"kin_foundation_unlock_rate\": kin_foundation_unlock_rate,\n",
    "    \"kin_team_option\": kin_team_option,\n",
    "    \"kin_team_unlock\": kin_team_unlock,\n",
    "    \"kin_value\": kin_value,\n",
    "    \"kin_rise\": kin_rise,\n",
    "    \"kin_public\": kin_public,\n",
    "}"
   ]
  },
  {
   "cell_type": "code",
   "execution_count": 8,
   "metadata": {
    "collapsed": true,
    "deletable": true,
    "editable": true
   },
   "outputs": [],
   "source": [
    "def valuation_by_year(current_data, year):\n",
    "    current_data = deepcopy(current_data)\n",
    "    kin_team_unlock = current_data[\"kin_team_unlock\"]\n",
    "    kin_team_option = current_data[\"kin_team_option\"]\n",
    "    kin_foundation_option = current_data[\"kin_foundation_option\"]\n",
    "    kin_foundation_unlock_rate = current_data[\"kin_foundation_unlock_rate\"]\n",
    "    kin_value = current_data[\"kin_value\"]\n",
    "    kin_rise = current_data[\"kin_rise\"]\n",
    "    kin_public = current_data[\"kin_public\"]\n",
    "    new_supply = 0\n",
    "    quarter = year * 4\n",
    "    if kin_team_option > 0:\n",
    "        new_unlock = min(kin_team_unlock * quarter, kin_team_option)\n",
    "        new_supply += new_unlock\n",
    "        kin_team_option -= new_unlock\n",
    "    foundation_option_remainder = kin_foundation_option * pow(0.8, min(year, 1)) #at most 1, or the frac part\n",
    "    foundation_supply = kin_foundation_option - foundation_option_remainder\n",
    "    new_supply += foundation_supply\n",
    "    kin_foundation_option = foundation_option_remainder\n",
    "    kin_public += new_supply\n",
    "    kin_public = kin_public * (1 + get_inflation_rate(year))\n",
    "    kin_value = kin_value * (1 + kin_rise * min(year, 1))\n",
    "    current_data.update({\n",
    "        \"kin_team_option\": kin_team_option,\n",
    "        \"kin_foundation_option\": kin_foundation_option,\n",
    "        \"kin_public\": kin_public,\n",
    "        \"kin_value\": kin_value\n",
    "    })\n",
    "    return current_data"
   ]
  },
  {
   "cell_type": "code",
   "execution_count": 9,
   "metadata": {
    "collapsed": false,
    "deletable": true,
    "editable": true
   },
   "outputs": [],
   "source": [
    "def valuation(initial_setting=initial_setting, start_date=datetime(2017,9,30), quarter=0):\n",
    "    d = start_date + relativedelta(months=quarter)\n",
    "    year = quarter / 4. # let's use year to calculate\n",
    "    years = int(year)\n",
    "    frac = year - years\n",
    "    data = initial_setting\n",
    "    for i in range(1, years+1):\n",
    "        data = valuation_by_year(data, i)\n",
    "    if frac > 0:\n",
    "        data = valuation_by_year(data, frac)\n",
    "    initial_setting = data\n",
    "    kin_team_unlock = initial_setting[\"kin_team_unlock\"]\n",
    "    kin_team_option = initial_setting[\"kin_team_option\"]\n",
    "    kin_foundation_option = initial_setting[\"kin_foundation_option\"]\n",
    "    kin_foundation_unlock_rate = initial_setting[\"kin_foundation_unlock_rate\"]\n",
    "    kin_value = initial_setting[\"kin_value\"]\n",
    "    kin_rise = initial_setting[\"kin_rise\"]\n",
    "    kin_public = initial_setting[\"kin_public\"]\n",
    "    return d, kin_public, kin_value, kin_public * kin_value, kin_team_option, kin_foundation_option"
   ]
  },
  {
   "cell_type": "code",
   "execution_count": 10,
   "metadata": {
    "collapsed": false,
    "deletable": true,
    "editable": true
   },
   "outputs": [],
   "source": [
    "quarters = 40\n",
    "dataframes = [valuation(quarter=i) for i in range(quarters)]"
   ]
  },
  {
   "cell_type": "markdown",
   "metadata": {
    "deletable": true,
    "editable": true
   },
   "source": [
    "## Market Price"
   ]
  },
  {
   "cell_type": "code",
   "execution_count": 11,
   "metadata": {
    "collapsed": false,
    "deletable": true,
    "editable": true
   },
   "outputs": [
    {
     "data": {
      "text/plain": [
       "<matplotlib.legend.Legend at 0x105ec1b10>"
      ]
     },
     "execution_count": 11,
     "metadata": {},
     "output_type": "execute_result"
    },
    {
     "data": {
      "image/png": "[encoded data removed]",
      "text/plain": [
       "<matplotlib.figure.Figure at 0x105df1d10>"
      ]
     },
     "metadata": {},
     "output_type": "display_data"
    }
   ],
   "source": [
    "p = plt.plot([x[0] for x in dataframes], [x[3] for x in dataframes])\n",
    "plt.legend((p[0], ), (\"Market Price(USD)\",))"
   ]
  },
  {
   "cell_type": "markdown",
   "metadata": {
    "deletable": true,
    "editable": true
   },
   "source": [
    "## #Kin Available"
   ]
  },
  {
   "cell_type": "code",
   "execution_count": 12,
   "metadata": {
    "collapsed": false,
    "deletable": true,
    "editable": true
   },
   "outputs": [
    {
     "data": {
      "text/plain": [
       "<matplotlib.legend.Legend at 0x1062ce510>"
      ]
     },
     "execution_count": 12,
     "metadata": {},
     "output_type": "execute_result"
    },
    {
     "data": {
      "image/png": "[encoded data removed]",
      "text/plain": [
       "<matplotlib.figure.Figure at 0x10486fcd0>"
      ]
     },
     "metadata": {},
     "output_type": "display_data"
    }
   ],
   "source": [
    "p = plt.plot([x[0] for x in dataframes], [x[1] for x in dataframes])\n",
    "plt.legend((p[0], ), (\"#Kin Available\",))"
   ]
  },
  {
   "cell_type": "code",
   "execution_count": 13,
   "metadata": {
    "collapsed": true,
    "deletable": true,
    "editable": true
   },
   "outputs": [],
   "source": [
    "## Kin Price"
   ]
  },
  {
   "cell_type": "code",
   "execution_count": 14,
   "metadata": {
    "collapsed": false,
    "deletable": true,
    "editable": true,
    "scrolled": true
   },
   "outputs": [
    {
     "data": {
      "text/plain": [
       "<matplotlib.legend.Legend at 0x1064bbcd0>"
      ]
     },
     "execution_count": 14,
     "metadata": {},
     "output_type": "execute_result"
    },
    {
     "data": {
      "image/png": "[encoded data removed]",
      "text/plain": [
       "<matplotlib.figure.Figure at 0x105df1fd0>"
      ]
     },
     "metadata": {},
     "output_type": "display_data"
    }
   ],
   "source": [
    "p = plt.plot([x[0] for x in dataframes], [x[2] for x in dataframes])\n",
    "plt.legend((p[0], ), (\"Kin Price(USD)\",))"
   ]
  },
  {
   "cell_type": "code",
   "execution_count": 15,
   "metadata": {
    "collapsed": false,
    "deletable": true,
    "editable": true
   },
   "outputs": [],
   "source": [
    "def show_bar(kin_public, kin_team_option, kin_foundation_option):\n",
    "    N = len(kin_public)\n",
    "    p1 = plt.bar(np.arange(N), kin_public)\n",
    "    p2 = plt.bar(np.arange(N), kin_foundation_option, bottom=kin_public)\n",
    "    p3 = plt.bar(np.arange(N), kin_team_option, bottom=kin_foundation_option)\n",
    "    plt.legend((p1[0], p2[0], p3[0]), ('#public', '#foundation', '#Team'))"
   ]
  },
  {
   "cell_type": "code",
   "execution_count": 16,
   "metadata": {
    "collapsed": false,
    "deletable": true,
    "editable": true
   },
   "outputs": [],
   "source": [
    "kin_publics = [x[1] for x in dataframes]\n",
    "kin_team_options = [x[-2] for x in dataframes]\n",
    "kin_foundation_options = [x[-1] for x in dataframes]"
   ]
  },
  {
   "cell_type": "code",
   "execution_count": 17,
   "metadata": {
    "collapsed": false,
    "deletable": true,
    "editable": true
   },
   "outputs": [
    {
     "data": {
      "image/png": "[encoded data removed]",
      "text/plain": [
       "<matplotlib.figure.Figure at 0x1064eb390>"
      ]
     },
     "metadata": {},
     "output_type": "display_data"
    }
   ],
   "source": [
    "show_bar(kin_publics, kin_team_options, kin_foundation_options)"
   ]
  },
  {
   "cell_type": "code",
   "execution_count": null,
   "metadata": {
    "collapsed": true,
    "deletable": true,
    "editable": true
   },
   "outputs": [],
   "source": []
  }
 ],
 "metadata": {
  "kernelspec": {
   "display_name": "Python 2",
   "language": "python",
   "name": "python2"
  },
  "language_info": {
   "codemirror_mode": {
    "name": "ipython",
    "version": 2
   },
   "file_extension": ".py",
   "mimetype": "text/x-python",
   "name": "python",
   "nbconvert_exporter": "python",
   "pygments_lexer": "ipython2",
   "version": "2.7.10"
  }
 },
 "nbformat": 4,
 "nbformat_minor": 2
}
